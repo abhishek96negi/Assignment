{
  "nbformat": 4,
  "nbformat_minor": 0,
  "metadata": {
    "colab": {
      "name": "python assignment 4 .ipynb",
      "provenance": [],
      "authorship_tag": "ABX9TyOFayYg9iszfgGwWHfr8ku+",
      "include_colab_link": true
    },
    "kernelspec": {
      "name": "python3",
      "display_name": "Python 3"
    }
  },
  "cells": [
    {
      "cell_type": "markdown",
      "metadata": {
        "id": "view-in-github",
        "colab_type": "text"
      },
      "source": [
        "<a href=\"https://colab.research.google.com/github/abhishek96negi/Assignment/blob/master/DLCVNLP%2025th/python%20assignment%204%20.ipynb\" target=\"_parent\"><img src=\"https://colab.research.google.com/assets/colab-badge.svg\" alt=\"Open In Colab\"/></a>"
      ]
    },
    {
      "cell_type": "markdown",
      "metadata": {
        "id": "Ld9WAOWds2KU",
        "colab_type": "text"
      },
      "source": [
        "1.1\n",
        "\n",
        "Write a Python Program(with class concepts) to find the area of the triangle using the below formula.\n",
        "\n",
        "  area = (s*(s-a)*(s-b)*(s-c)) ** 0.5\n",
        "\n",
        "Function to take the length of the sides of triangle from user should be defined in the parent class and function to calculate the area should be defined in subclass."
      ]
    },
    {
      "cell_type": "code",
      "metadata": {
        "id": "_Pztr7AcszRZ",
        "colab_type": "code",
        "colab": {
          "base_uri": "https://localhost:8080/",
          "height": 102
        },
        "outputId": "c6e017c0-491e-434a-8643-88e8b32e118e"
      },
      "source": [
        "class Shape:\n",
        "  def inputoflen(self):\n",
        "    print(\"Enter All three side one by one to find the area of a triangle\")\n",
        "    self.a=int(input(\"Enter First Side Value:\"))\n",
        "    self.b=int(input(\"Enter Second Side Value:\"))\n",
        "    self.c=int(input(\"Enter Third Side Value:\"))\n",
        "    self.s=float((self.a + self.b + self.c)/2)\n",
        "    \n",
        "class Triangle(Shape):\n",
        "  def area(self):\n",
        "    self.area=(self.s*(self.s-self.a)*(self.s-self.b)*(self.s-self.c)) ** 0.5\n",
        "    return self.area\n",
        "obj=Triangle()\n",
        "obj.inputoflen()\n",
        "obj.area()"
      ],
      "execution_count": 1,
      "outputs": [
        {
          "output_type": "stream",
          "text": [
            "Enter All three side one by one to find the area of a triangle\n",
            "Enter First Side Value:10\n",
            "Enter Second Side Value:12\n",
            "Enter Third Side Value:15\n"
          ],
          "name": "stdout"
        },
        {
          "output_type": "execute_result",
          "data": {
            "text/plain": [
              "59.81168364124187"
            ]
          },
          "metadata": {
            "tags": []
          },
          "execution_count": 1
        }
      ]
    },
    {
      "cell_type": "markdown",
      "metadata": {
        "id": "SJoxnoDltD5L",
        "colab_type": "text"
      },
      "source": [
        "1.2 Write a function filter_long_words() that takes a list of words and an integer n and returns\n",
        "the list of words that are longer than n."
      ]
    },
    {
      "cell_type": "code",
      "metadata": {
        "id": "S5PWW0sqtCAj",
        "colab_type": "code",
        "colab": {
          "base_uri": "https://localhost:8080/",
          "height": 68
        },
        "outputId": "c488319c-dfc2-41f4-effb-eb73c6a1516b"
      },
      "source": [
        "def filter_long_words(li,n):\n",
        "  new=[]\n",
        "  for i in input_string:\n",
        "    if len(i)>n:\n",
        "      new.append(i)\n",
        "  return new\n",
        "input_string=input(\"Enter a list elemet separated by space\").split()\n",
        "n=int(input(\"Enter the number\"))\n",
        "new=filter_long_words(input_string,n)\n",
        "print(new)"
      ],
      "execution_count": 3,
      "outputs": [
        {
          "output_type": "stream",
          "text": [
            "Enter a list elemet separated by spaceRavi Himanshu Amit Abhishek Rahul\n",
            "Enter the number4\n",
            "['Himanshu', 'Abhishek', 'Rahul']\n"
          ],
          "name": "stdout"
        }
      ]
    },
    {
      "cell_type": "markdown",
      "metadata": {
        "id": "0kMrw8-7tHB9",
        "colab_type": "text"
      },
      "source": [
        "2.1\n",
        "\n",
        "Write a Python program using function concept that maps list of words into a list of integers representing the lengths of the corresponding words.\n",
        "\n",
        "Hint: If a list [ ab,cde,erty] is passed on to the python function output should come as [2,3,4]\n",
        "\n",
        "Here 2,3 and 4 are the lengths of the words in the list."
      ]
    },
    {
      "cell_type": "code",
      "metadata": {
        "id": "UU3sMwuUtMYx",
        "colab_type": "code",
        "colab": {
          "base_uri": "https://localhost:8080/",
          "height": 34
        },
        "outputId": "67537dc6-4c4c-4d21-ec40-0750dc83b2cd"
      },
      "source": [
        "def ouput(s):\n",
        "  return len(s)\n",
        "l=['Abhishek','Amit','Ravi','Himanshu']\n",
        "l1=list(map(ouput,l))\n",
        "l1"
      ],
      "execution_count": 4,
      "outputs": [
        {
          "output_type": "execute_result",
          "data": {
            "text/plain": [
              "[8, 4, 4, 8]"
            ]
          },
          "metadata": {
            "tags": []
          },
          "execution_count": 4
        }
      ]
    },
    {
      "cell_type": "markdown",
      "metadata": {
        "id": "YhnJ-q-stMu0",
        "colab_type": "text"
      },
      "source": [
        "2.2 Write a Python function which takes a character (i.e. a string of length 1) and returns True if\n",
        "it is a vowel, False otherwise."
      ]
    },
    {
      "cell_type": "code",
      "metadata": {
        "id": "Xn98lO3BtOWY",
        "colab_type": "code",
        "colab": {
          "base_uri": "https://localhost:8080/",
          "height": 51
        },
        "outputId": "27655674-3da0-444a-f8a5-84c144c5500c"
      },
      "source": [
        "\n",
        "def chara(a):\n",
        "  if 1==len(a):\n",
        "    if a in 'AEIOUaeiou':\n",
        "      return True\n",
        "  return False\n",
        "\n",
        "chara(input())"
      ],
      "execution_count": 5,
      "outputs": [
        {
          "output_type": "stream",
          "text": [
            "A\n"
          ],
          "name": "stdout"
        },
        {
          "output_type": "execute_result",
          "data": {
            "text/plain": [
              "True"
            ]
          },
          "metadata": {
            "tags": []
          },
          "execution_count": 5
        }
      ]
    }
  ]
}