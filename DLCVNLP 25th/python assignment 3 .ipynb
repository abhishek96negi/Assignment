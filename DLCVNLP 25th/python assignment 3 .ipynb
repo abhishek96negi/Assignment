{
  "nbformat": 4,
  "nbformat_minor": 0,
  "metadata": {
    "colab": {
      "name": "python assignment 3.ipynb",
      "provenance": [],
      "authorship_tag": "ABX9TyPZDpsi3glVh6aV5Y/r9xR1",
      "include_colab_link": true
    },
    "kernelspec": {
      "name": "python3",
      "display_name": "Python 3"
    }
  },
  "cells": [
    {
      "cell_type": "markdown",
      "metadata": {
        "id": "view-in-github",
        "colab_type": "text"
      },
      "source": [
        "<a href=\"https://colab.research.google.com/github/abhishek96negi/Assignment/blob/master/DLCVNLP%2025th/python%20assignment%203%20.ipynb\" target=\"_parent\"><img src=\"https://colab.research.google.com/assets/colab-badge.svg\" alt=\"Open In Colab\"/></a>"
      ]
    },
    {
      "cell_type": "markdown",
      "metadata": {
        "id": "wuHUsbJeuQ3f",
        "colab_type": "text"
      },
      "source": [
        "1.1 Write a Python Program to implement your own myreduce() function which works exactly\n",
        "like Python's built-in function reduce()"
      ]
    },
    {
      "cell_type": "code",
      "metadata": {
        "id": "7h2Ag25EuM9a",
        "colab_type": "code",
        "colab": {
          "base_uri": "https://localhost:8080/",
          "height": 51
        },
        "outputId": "48617acb-afbf-4a6f-aa23-48d44d7e48f0"
      },
      "source": [
        "l=[14,12,25,32]\n",
        "def do_sum(x1, x2): \n",
        "    return x1 + x2\n",
        "\n",
        "def Product(x1,x2):\n",
        "  return x1*x2\n",
        "\n",
        "def my_reduce(func,l):\n",
        "     first = l[0]\n",
        "     for i in l[1:]:\n",
        "         first = func(first, i)\n",
        "     return first\n",
        "print(\"Sum of all element in list a :\", my_reduce(do_sum, l))\n",
        "print(\"Product of all elements in list a :\", my_reduce(Product, l))"
      ],
      "execution_count": 3,
      "outputs": [
        {
          "output_type": "stream",
          "text": [
            "Sum of all element in list a : 83\n",
            "Product of all elements in list a : 134400\n"
          ],
          "name": "stdout"
        }
      ]
    },
    {
      "cell_type": "markdown",
      "metadata": {
        "id": "ISEPz0TPuWGv",
        "colab_type": "text"
      },
      "source": [
        "1.2 Write a Python program to implement your own myfilter() function which works exactly\n",
        "like Python's built-in function filter()"
      ]
    },
    {
      "cell_type": "code",
      "metadata": {
        "id": "hOAEM9onuXxD",
        "colab_type": "code",
        "colab": {
          "base_uri": "https://localhost:8080/",
          "height": 51
        },
        "outputId": "0546a53c-c3eb-4116-c875-90e1d2a6f49f"
      },
      "source": [
        "l=[14,12,25,32]\n",
        "def even(num):\n",
        "  if num%2==0:\n",
        "    return num\n",
        "\n",
        "def myfilter(func,l):\n",
        "     for i in l:\n",
        "          if func(i):\n",
        "            yield i\n",
        "list(myfilter(even,l))\n",
        "\n",
        "def multiple_five(i):\n",
        "    if i%5==0:\n",
        "        return i\n",
        "    else:\n",
        "        return False\n",
        "\n",
        "\n",
        "print(list(myfilter(multiple_five,l)))\n",
        "print(list(myfilter(even,l)))"
      ],
      "execution_count": 4,
      "outputs": [
        {
          "output_type": "stream",
          "text": [
            "[25]\n",
            "[14, 12, 32]\n"
          ],
          "name": "stdout"
        }
      ]
    },
    {
      "cell_type": "markdown",
      "metadata": {
        "id": "FpX0XVmJuYTz",
        "colab_type": "text"
      },
      "source": [
        "2. Implement List comprehensions to produce the following lists.\n",
        "Write List comprehensions to produce the following Lists\n",
        "\n",
        "['A', 'C', 'A', 'D', 'G', 'I', ’L’, ‘ D’]\n",
        "\n",
        "['x', 'xx', 'xxx', 'xxxx', 'y', 'yy', 'yyy', 'yyyy', 'z', 'zz', 'zzz', 'zzzz']\n",
        "\n",
        "['x', 'y', 'z', 'xx', 'yy', 'zz', 'xxx', 'yyy', 'zzz', 'xxxx', 'yyyy', 'zzzz']\n",
        "\n",
        "[[2], [3], [4], [3], [4], [5], [4], [5], [6]] [[2, 3, 4, 5], [3, 4, 5, 6],\n",
        "\n",
        "[4, 5, 6, 7], [5, 6, 7, 8]]\n",
        "\n",
        "[(1, 1), (2, 1), (3, 1), (1, 2), (2, 2), (3, 2), (1, 3), (2, 3), (3, 3)]"
      ]
    },
    {
      "cell_type": "code",
      "metadata": {
        "id": "BZ2OtdFZudHl",
        "colab_type": "code",
        "colab": {
          "base_uri": "https://localhost:8080/",
          "height": 119
        },
        "outputId": "b9537fac-463c-4142-e5db-e70ae48dba21"
      },
      "source": [
        "# 1. Solution \n",
        "l = [i for i in 'ACADGILD']\n",
        "print(l)\n",
        "# 2. solution \n",
        "l=['x','y','z']\n",
        "print([i*j for i in l for j in range(1,5)])\n",
        "# 3. solution\n",
        "print([i*j for i in range(1,5) for j in l])\n",
        "# 4. solution\n",
        "print([[i+j] for i in range(1,4) for j in range(1,4)])\n",
        "#5. solution\n",
        "print([[i+j for i in range(1,5)] for j in range(1,5)])\n",
        "#6. solution\n",
        "print([(i,j) for i in range(1,4) for j in range(1,4)])"
      ],
      "execution_count": 5,
      "outputs": [
        {
          "output_type": "stream",
          "text": [
            "['A', 'C', 'A', 'D', 'G', 'I', 'L', 'D']\n",
            "['x', 'xx', 'xxx', 'xxxx', 'y', 'yy', 'yyy', 'yyyy', 'z', 'zz', 'zzz', 'zzzz']\n",
            "['x', 'y', 'z', 'xx', 'yy', 'zz', 'xxx', 'yyy', 'zzz', 'xxxx', 'yyyy', 'zzzz']\n",
            "[[2], [3], [4], [3], [4], [5], [4], [5], [6]]\n",
            "[[2, 3, 4, 5], [3, 4, 5, 6], [4, 5, 6, 7], [5, 6, 7, 8]]\n",
            "[(1, 1), (1, 2), (1, 3), (2, 1), (2, 2), (2, 3), (3, 1), (3, 2), (3, 3)]\n"
          ],
          "name": "stdout"
        }
      ]
    }
  ]
}