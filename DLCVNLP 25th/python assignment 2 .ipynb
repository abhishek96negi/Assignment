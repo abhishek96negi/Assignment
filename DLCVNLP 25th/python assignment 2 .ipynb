{
  "nbformat": 4,
  "nbformat_minor": 0,
  "metadata": {
    "colab": {
      "name": "python assignment 2 .ipynb",
      "provenance": [],
      "authorship_tag": "ABX9TyOceKtvTpBiymRAO18ZgXsM",
      "include_colab_link": true
    },
    "kernelspec": {
      "name": "python3",
      "display_name": "Python 3"
    }
  },
  "cells": [
    {
      "cell_type": "markdown",
      "metadata": {
        "id": "view-in-github",
        "colab_type": "text"
      },
      "source": [
        "<a href=\"https://colab.research.google.com/github/abhishek96negi/Assignment/blob/master/DLCVNLP%2025th/python%20assignment%202%20.ipynb\" target=\"_parent\"><img src=\"https://colab.research.google.com/assets/colab-badge.svg\" alt=\"Open In Colab\"/></a>"
      ]
    },
    {
      "cell_type": "markdown",
      "metadata": {
        "id": "WyN7qtrrK0as",
        "colab_type": "text"
      },
      "source": [
        "2.\n",
        "\n",
        "Create the below pattern using nested for loop in Python.\n",
        "\n",
        "\n",
        "\n",
        "      *\n",
        "      * *\n",
        "      * * *\n",
        "      * * * *\n",
        "      * * * * * \n",
        "      * * * *\n",
        "      * * *\n",
        "      * *\n",
        "      * "
      ]
    },
    {
      "cell_type": "code",
      "metadata": {
        "id": "-7fpZkjdKvpZ",
        "colab_type": "code",
        "colab": {
          "base_uri": "https://localhost:8080/",
          "height": 170
        },
        "outputId": "ae78e68a-277c-429c-92a3-1891ae4bce22"
      },
      "source": [
        "for i in range(5):\n",
        "  for j in range(5):\n",
        "    if(j<=i):\n",
        "      print(\"*\",end=' ')\n",
        "  print(end='\\n')\n",
        "for i in range(4,0,-1):\n",
        "  for j in range(4):\n",
        "    if(j<i):\n",
        "      print(\"*\",end=' ')\n",
        "  print(end='\\n')"
      ],
      "execution_count": null,
      "outputs": [
        {
          "output_type": "stream",
          "text": [
            "* \n",
            "* * \n",
            "* * * \n",
            "* * * * \n",
            "* * * * * \n",
            "* * * * \n",
            "* * * \n",
            "* * \n",
            "* \n"
          ],
          "name": "stdout"
        }
      ]
    },
    {
      "cell_type": "markdown",
      "metadata": {
        "id": "Re9HvLoyK2lE",
        "colab_type": "text"
      },
      "source": [
        "2. Write a Python program to reverse a word after accepting the input from the user.\n",
        "\n",
        "**Sample Output**\n",
        "\n",
        "Input word: ineuron\n",
        "\n",
        "Output: norueni"
      ]
    },
    {
      "cell_type": "code",
      "metadata": {
        "id": "ovqmEcfxLUey",
        "colab_type": "code",
        "colab": {
          "base_uri": "https://localhost:8080/",
          "height": 51
        },
        "outputId": "e4f72953-047a-471e-df5d-3849c4099526"
      },
      "source": [
        "name=input()\n",
        "print(name[::-1])"
      ],
      "execution_count": null,
      "outputs": [
        {
          "output_type": "stream",
          "text": [
            "ineuron\n",
            "norueni\n"
          ],
          "name": "stdout"
        }
      ]
    }
  ]
}