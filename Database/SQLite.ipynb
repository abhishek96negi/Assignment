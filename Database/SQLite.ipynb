{
  "nbformat": 4,
  "nbformat_minor": 0,
  "metadata": {
    "kernelspec": {
      "display_name": "Python 3",
      "language": "python",
      "name": "python3"
    },
    "language_info": {
      "codemirror_mode": {
        "name": "ipython",
        "version": 3
      },
      "file_extension": ".py",
      "mimetype": "text/x-python",
      "name": "python",
      "nbconvert_exporter": "python",
      "pygments_lexer": "ipython3",
      "version": "3.7.6"
    },
    "colab": {
      "name": "19.1.SQLite.ipynb",
      "provenance": [],
      "collapsed_sections": []
    }
  },
  "cells": [
    {
      "cell_type": "markdown",
      "metadata": {
        "id": "xHFDdWc62YVc",
        "colab_type": "text"
      },
      "source": [
        "<img src=\"https://d24cdstip7q8pz.cloudfront.net/t/ineuron1/content/common/images/final%20logo.png\" height=50 alt-text=\"iNeuron.ai logo\">"
      ]
    },
    {
      "cell_type": "markdown",
      "metadata": {
        "id": "Z70qP3cv2YVg",
        "colab_type": "text"
      },
      "source": [
        "## 19.1 SQLite\n",
        "\n",
        "* SQLite is a C library that provides a lightweight disk-based database that doesn’t require a separate server process and allows accessing the database using a nonstandard variant of the SQL query language. \n",
        "* Some applications can use SQLite for internal data storage. It’s also possible to prototype an application using SQLite and then port the code to a larger database such as PostgreSQL or Oracle.\n",
        "\n",
        "* The sqlite3 module was written by Gerhard Häring. It provides a SQL interface compliant with the DB-API 2.0 specification described by PEP 249.\n",
        "\n",
        ">**Note:** To use the module, you must first create a Connection object that represents the database. \n",
        "\n",
        "**Here, we include some basic function of SQLite;**\n",
        "\n",
        "- **SQLite and Python types**\n",
        "- **Connection Establishment with Database**\n",
        "- **Table Creation and Data Insertion**\n",
        "- **Some Data Filtering Operation**\n",
        "- **Table Drop**"
      ]
    },
    {
      "cell_type": "markdown",
      "metadata": {
        "id": "8l6C41Ok2YVh",
        "colab_type": "text"
      },
      "source": [
        "### 19.1.1 SQLite and Python types\n",
        "\n",
        "SQLite natively supports the following types: **`NULL`**, **`INTEGER`**, **`REAL`**, **`TEXT`**, **`BLOB`**.\n",
        "\n",
        "The following Python types can thus be sent to `SQLite` without any problem:\n",
        "\n",
        "|Python type|SQLite type|\n",
        "|:-|:-|\n",
        "|None|NULL|\n",
        "|int|INTEGER|\n",
        "|float|REAL|\n",
        "|str|TEXT|\n",
        "|bytes|BLOB|\n",
        "\n",
        "This is how SQLite types are converted to Python types by default:\n",
        "\n",
        "|SQLite type|Python type|\n",
        "|:-|:-|\n",
        "|NULL|None|\n",
        "|INTEGER|int|\n",
        "|REAL|float|\n",
        "|TEXT|depends on text_factory, str by default|\n",
        "|BLOB|bytes|\n"
      ]
    },
    {
      "cell_type": "markdown",
      "metadata": {
        "id": "rEBIsZg42YVj",
        "colab_type": "text"
      },
      "source": [
        "### 19.1.2 Connection Establishment with Database \n",
        "Here the data will be stored in the `my_database1.db` file:"
      ]
    },
    {
      "cell_type": "code",
      "metadata": {
        "id": "Upa4YruI2YVk",
        "colab_type": "code",
        "colab": {}
      },
      "source": [
        "# importing sqlite\n",
        "import sqlite3\n",
        "#connecting with the database.\n",
        "db = sqlite3.connect(\"company_database.db\")"
      ],
      "execution_count": null,
      "outputs": []
    },
    {
      "cell_type": "markdown",
      "metadata": {
        "id": "NcAh1H0-2YVr",
        "colab_type": "text"
      },
      "source": [
        ">**Note:** You can also supply the special name `:memory:` to create a database in RAM.\n"
      ]
    },
    {
      "cell_type": "markdown",
      "metadata": {
        "id": "iP6Eajno2YVt",
        "colab_type": "text"
      },
      "source": [
        "### 19.1.3 Table Creation and Data Insertion\n",
        "* Once you have a Connection, you can create a Cursor object and call its `execute()` method to perform SQL commands:"
      ]
    },
    {
      "cell_type": "code",
      "metadata": {
        "id": "8fqqbFux2YVu",
        "colab_type": "code",
        "colab": {}
      },
      "source": [
        "c = db.cursor()"
      ],
      "execution_count": null,
      "outputs": []
    },
    {
      "cell_type": "code",
      "metadata": {
        "id": "K7TTC9Iy2YV1",
        "colab_type": "code",
        "colab": {},
        "outputId": "7bda90a6-a65d-49dc-e6ed-9446eb9acbb5"
      },
      "source": [
        "# Create table\n",
        "c.execute('CREATE TABLE company(ID int, Name text, Age int, Address text, Salary real)')"
      ],
      "execution_count": null,
      "outputs": [
        {
          "output_type": "execute_result",
          "data": {
            "text/plain": [
              "<sqlite3.Cursor at 0x216b88a5d50>"
            ]
          },
          "metadata": {
            "tags": []
          },
          "execution_count": 10
        }
      ]
    },
    {
      "cell_type": "code",
      "metadata": {
        "id": "sHOjuCO72YV_",
        "colab_type": "code",
        "colab": {},
        "outputId": "0436e1a8-1481-4ab2-a617-e15e81e68b29"
      },
      "source": [
        "# Insert a row of data only by providing values\n",
        "c.execute(\"INSERT INTO company VALUES (1, 'Jhon', 32, 'Bangalore', 100000.00)\")\n",
        "c.execute(\"INSERT INTO company VALUES (2, 'Jhon', 32, 'Bangalore', 100000.00)\")"
      ],
      "execution_count": null,
      "outputs": [
        {
          "output_type": "execute_result",
          "data": {
            "text/plain": [
              "<sqlite3.Cursor at 0x216b88a5d50>"
            ]
          },
          "metadata": {
            "tags": []
          },
          "execution_count": 11
        }
      ]
    },
    {
      "cell_type": "code",
      "metadata": {
        "id": "f_09E1Hg2YWG",
        "colab_type": "code",
        "colab": {}
      },
      "source": [
        "data=c.execute(\"SELECT * FROM company\")"
      ],
      "execution_count": null,
      "outputs": []
    },
    {
      "cell_type": "markdown",
      "metadata": {
        "id": "pFhWRYo_2YWM",
        "colab_type": "text"
      },
      "source": [
        ">**Note:** Its create a sqlite cursor and to get the data you need to iterate over for loop"
      ]
    },
    {
      "cell_type": "code",
      "metadata": {
        "id": "KspmKi4b2YWO",
        "colab_type": "code",
        "colab": {},
        "outputId": "fa5d9d66-138b-4bb2-e765-43f84b0e1855"
      },
      "source": [
        "for i in data:\n",
        "    print(i)"
      ],
      "execution_count": null,
      "outputs": [
        {
          "output_type": "stream",
          "text": [
            "(1, 'Jhon', 32, 'Bangalore', 100000.0)\n",
            "(2, 'Jhon', 32, 'Bangalore', 100000.0)\n"
          ],
          "name": "stdout"
        }
      ]
    },
    {
      "cell_type": "markdown",
      "metadata": {
        "id": "_hgAGJjO2YWV",
        "colab_type": "text"
      },
      "source": [
        "* There is another way to insert in table by both key and values"
      ]
    },
    {
      "cell_type": "code",
      "metadata": {
        "id": "8FdLDx482YWW",
        "colab_type": "code",
        "colab": {},
        "outputId": "2c90f9bb-0724-4b42-eff9-8b67b677b425"
      },
      "source": [
        "# Insert a row of data\n",
        "c.execute(\"INSERT INTO company (ID, Name, Age, Address, Salary) VALUES (3, 'Venkat', 42, 'Chennai', 400000.00)\")\n",
        "\n",
        "c.execute(\"INSERT INTO company (ID, Name, Age, Address, Salary) VALUES (4, 'Raju', 31, 'Madurai', 400000.00)\")\n",
        "\n",
        "c.execute(\"INSERT INTO company (ID, Name, Age, Address, Salary) VALUES (5, 'Ankit', 25, 'Bangalore', 800000.00)\")\n",
        "\n",
        "c.execute(\"INSERT INTO company (ID, Name, Age, Address, Salary) VALUES (6, 'Ravi', 25, 'Bangalore', 800000.00)\")\n",
        "\n",
        "c.execute(\"INSERT INTO company (ID, Name, Age, Address, Salary) VALUES (7, 'Shivam', 25, 'Bangalore', 800000.00)\")"
      ],
      "execution_count": null,
      "outputs": [
        {
          "output_type": "execute_result",
          "data": {
            "text/plain": [
              "<sqlite3.Cursor at 0x216b88a5d50>"
            ]
          },
          "metadata": {
            "tags": []
          },
          "execution_count": 14
        }
      ]
    },
    {
      "cell_type": "code",
      "metadata": {
        "id": "23OrJC1t2YWc",
        "colab_type": "code",
        "colab": {},
        "outputId": "6d453260-7af3-4364-f209-7b7846768d64"
      },
      "source": [
        "data=c.execute(\"SELECT * FROM company\")\n",
        "for i in data:\n",
        "    print(i)"
      ],
      "execution_count": null,
      "outputs": [
        {
          "output_type": "stream",
          "text": [
            "(1, 'Jhon', 32, 'Bangalore', 100000.0)\n",
            "(2, 'Jhon', 32, 'Bangalore', 100000.0)\n",
            "(3, 'Venkat', 42, 'Chennai', 400000.0)\n",
            "(4, 'Raju', 31, 'Madurai', 400000.0)\n",
            "(5, 'Ankit', 25, 'Bangalore', 800000.0)\n",
            "(6, 'Ravi', 25, 'Bangalore', 800000.0)\n",
            "(7, 'Shivam', 25, 'Bangalore', 800000.0)\n"
          ],
          "name": "stdout"
        }
      ]
    },
    {
      "cell_type": "code",
      "metadata": {
        "id": "Fa0MQaMs2YWi",
        "colab_type": "code",
        "colab": {}
      },
      "source": [
        "# Save (commit) the changes\n",
        "db.commit()"
      ],
      "execution_count": null,
      "outputs": []
    },
    {
      "cell_type": "code",
      "metadata": {
        "id": "nN8Q8XN62YXG",
        "colab_type": "code",
        "colab": {}
      },
      "source": [
        "# We can also close the connection if we are done with it.\n",
        "# Just be sure any changes have been committed or they will be lost.\n",
        "db.close()"
      ],
      "execution_count": null,
      "outputs": []
    },
    {
      "cell_type": "markdown",
      "metadata": {
        "id": "ncSK3oYy2YXM",
        "colab_type": "text"
      },
      "source": [
        "### 19.1.4 Some Data Filtering Operation"
      ]
    },
    {
      "cell_type": "code",
      "metadata": {
        "id": "LIFkMKjO2YXO",
        "colab_type": "code",
        "colab": {}
      },
      "source": [
        "## Connecting to a Database\n",
        "db = sqlite3.connect(\"company_database.db\")\n",
        "c=db.cursor()"
      ],
      "execution_count": null,
      "outputs": []
    },
    {
      "cell_type": "code",
      "metadata": {
        "id": "BHiTSXmr2YXT",
        "colab_type": "code",
        "colab": {},
        "outputId": "59df0692-2d9e-4918-e7a1-d7ca9d19ab05"
      },
      "source": [
        "'''\n",
        "Showing data for salary greater than 100000\n",
        "'''\n",
        "data=c.execute(\"select * from company where Salary >100000\")\n",
        "for x in data:\n",
        "    print(x)"
      ],
      "execution_count": null,
      "outputs": [
        {
          "output_type": "stream",
          "text": [
            "(3, 'Venkat', 42, 'Chennai', 400000.0)\n",
            "(4, 'Raju', 31, 'Madurai', 400000.0)\n",
            "(5, 'Ankit', 25, 'Bangalore', 800000.0)\n",
            "(6, 'Ravi', 25, 'Bangalore', 800000.0)\n",
            "(7, 'Shivam', 25, 'Bangalore', 800000.0)\n"
          ],
          "name": "stdout"
        }
      ]
    },
    {
      "cell_type": "code",
      "metadata": {
        "id": "IaLRXbCr2YXY",
        "colab_type": "code",
        "colab": {},
        "outputId": "226e0f4b-dde6-40dc-f51b-7ef7c4309f9f"
      },
      "source": [
        "'''\n",
        "Showing name from data where place is Bangalore\n",
        "'''\n",
        "data=c.execute(\"select Name from company where Address = 'Bangalore'\")\n",
        "for x in data:\n",
        "    print(x)"
      ],
      "execution_count": null,
      "outputs": [
        {
          "output_type": "stream",
          "text": [
            "('Jhon',)\n",
            "('Jhon',)\n",
            "('Ankit',)\n",
            "('Ravi',)\n",
            "('Shivam',)\n"
          ],
          "name": "stdout"
        }
      ]
    },
    {
      "cell_type": "code",
      "metadata": {
        "id": "aU8kR8Hl2YXd",
        "colab_type": "code",
        "colab": {},
        "outputId": "56d44214-197d-44a9-8d5c-cc1713d1dec9"
      },
      "source": [
        "'''\n",
        "Showing ID and Name from data as per accending order of Age\n",
        "'''\n",
        "data=c.execute(\"select ID, Name from company order by Age\")\n",
        "for x in data:\n",
        "    print(x)"
      ],
      "execution_count": null,
      "outputs": [
        {
          "output_type": "stream",
          "text": [
            "(5, 'Ankit')\n",
            "(6, 'Ravi')\n",
            "(7, 'Shivam')\n",
            "(4, 'Raju')\n",
            "(1, 'Jhon')\n",
            "(2, 'Jhon')\n",
            "(3, 'Venkat')\n"
          ],
          "name": "stdout"
        }
      ]
    },
    {
      "cell_type": "code",
      "metadata": {
        "id": "CUB37HUl2YXl",
        "colab_type": "code",
        "colab": {},
        "outputId": "2315bc89-f0af-4d93-9b04-409ecf863a49"
      },
      "source": [
        "'''\n",
        "Showing ID, Name and Age from data as per deccending order of Age\n",
        "'''\n",
        "data=c.execute(\"select ID, Name, Age from company order by Age desc\")\n",
        "for x in data:\n",
        "    print(x)"
      ],
      "execution_count": null,
      "outputs": [
        {
          "output_type": "stream",
          "text": [
            "(3, 'Venkat', 42)\n",
            "(1, 'Jhon', 32)\n",
            "(2, 'Jhon', 32)\n",
            "(4, 'Raju', 31)\n",
            "(5, 'Ankit', 25)\n",
            "(6, 'Ravi', 25)\n",
            "(7, 'Shivam', 25)\n"
          ],
          "name": "stdout"
        }
      ]
    },
    {
      "cell_type": "markdown",
      "metadata": {
        "id": "R9Yu4ZAw2YXp",
        "colab_type": "text"
      },
      "source": [
        "### 19.1.5 Table Drop "
      ]
    },
    {
      "cell_type": "code",
      "metadata": {
        "id": "39uNQI1z2YXr",
        "colab_type": "code",
        "colab": {},
        "outputId": "58d2e95f-ac01-4498-dc32-fe5408f3e79d"
      },
      "source": [
        "# importing sqlite\n",
        "import sqlite3\n",
        "\n",
        "#connecting with the database.\n",
        "db = sqlite3.connect(\"food_database.db\")\n",
        "c = db.cursor()\n",
        "\n",
        "# Create table to store food name and their colories\n",
        "c.execute('CREATE TABLE food(Name text, Calories int)') \n",
        "\n",
        "# Insert a row of data\n",
        "c.execute(\"INSERT INTO food VALUES ('Mango', 60)\")\n",
        "c.execute(\"INSERT INTO food VALUES ('Samosa',262)\")\n"
      ],
      "execution_count": null,
      "outputs": [
        {
          "output_type": "execute_result",
          "data": {
            "text/plain": [
              "<sqlite3.Cursor at 0x216b88edf10>"
            ]
          },
          "metadata": {
            "tags": []
          },
          "execution_count": 23
        }
      ]
    },
    {
      "cell_type": "code",
      "metadata": {
        "id": "nlF8yImK2YXw",
        "colab_type": "code",
        "colab": {},
        "outputId": "186a46da-644a-4c1c-b196-2f544711801d"
      },
      "source": [
        "data=c.execute(\"SELECT * FROM food\")\n",
        "for i in data:\n",
        "    print(i)"
      ],
      "execution_count": null,
      "outputs": [
        {
          "output_type": "stream",
          "text": [
            "('Mango', 60)\n",
            "('Samosa', 262)\n"
          ],
          "name": "stdout"
        }
      ]
    },
    {
      "cell_type": "code",
      "metadata": {
        "id": "9nPWkIn72YXy",
        "colab_type": "code",
        "colab": {},
        "outputId": "6d5b14e2-4640-4884-a80a-d86192ccc845"
      },
      "source": [
        "## Its recommended to use this DROP command\n",
        "c.execute(\"DROP table IF EXISTS food\")"
      ],
      "execution_count": null,
      "outputs": [
        {
          "output_type": "execute_result",
          "data": {
            "text/plain": [
              "<sqlite3.Cursor at 0x216b88edf10>"
            ]
          },
          "metadata": {
            "tags": []
          },
          "execution_count": 25
        }
      ]
    },
    {
      "cell_type": "code",
      "metadata": {
        "id": "_dr6wYka2YX1",
        "colab_type": "code",
        "colab": {},
        "outputId": "d62cc69e-9674-4492-ec87-44f84ee81c28"
      },
      "source": [
        "## Checking its deleted or not\n",
        "c.execute(\"DROP table food\") "
      ],
      "execution_count": null,
      "outputs": [
        {
          "output_type": "error",
          "ename": "OperationalError",
          "evalue": "no such table: food",
          "traceback": [
            "\u001b[1;31m---------------------------------------------------------------------------\u001b[0m",
            "\u001b[1;31mOperationalError\u001b[0m                          Traceback (most recent call last)",
            "\u001b[1;32m<ipython-input-26-2eb9e4f617ea>\u001b[0m in \u001b[0;36m<module>\u001b[1;34m\u001b[0m\n\u001b[0;32m      1\u001b[0m \u001b[1;31m## Checking its deleted or not\u001b[0m\u001b[1;33m\u001b[0m\u001b[1;33m\u001b[0m\u001b[1;33m\u001b[0m\u001b[0m\n\u001b[1;32m----> 2\u001b[1;33m \u001b[0mc\u001b[0m\u001b[1;33m.\u001b[0m\u001b[0mexecute\u001b[0m\u001b[1;33m(\u001b[0m\u001b[1;34m\"DROP table food\"\u001b[0m\u001b[1;33m)\u001b[0m\u001b[1;33m\u001b[0m\u001b[1;33m\u001b[0m\u001b[0m\n\u001b[0m",
            "\u001b[1;31mOperationalError\u001b[0m: no such table: food"
          ]
        }
      ]
    },
    {
      "cell_type": "code",
      "metadata": {
        "id": "KHFTVKwr2zY5",
        "colab_type": "code",
        "colab": {}
      },
      "source": [
        "## close connection\n",
        "db.close()"
      ],
      "execution_count": null,
      "outputs": []
    }
  ]
}