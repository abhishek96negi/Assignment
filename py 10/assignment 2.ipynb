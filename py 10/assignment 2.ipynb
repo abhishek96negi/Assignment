{
  "nbformat": 4,
  "nbformat_minor": 0,
  "metadata": {
    "colab": {
      "name": "assignment 2.ipynb",
      "provenance": [],
      "authorship_tag": "ABX9TyP0/8Pjtl6qiSdsurh2wkEr",
      "include_colab_link": true
    },
    "kernelspec": {
      "name": "python3",
      "display_name": "Python 3"
    }
  },
  "cells": [
    {
      "cell_type": "markdown",
      "metadata": {
        "id": "view-in-github",
        "colab_type": "text"
      },
      "source": [
        "<a href=\"https://colab.research.google.com/github/abhishek96negi/Assignment/blob/master/py%2010/assignment%202.ipynb\" target=\"_parent\"><img src=\"https://colab.research.google.com/assets/colab-badge.svg\" alt=\"Open In Colab\"/></a>"
      ]
    },
    {
      "cell_type": "markdown",
      "metadata": {
        "id": "0J5ValsjbmPY",
        "colab_type": "text"
      },
      "source": [
        "#Session 2: Assignment 1"
      ]
    },
    {
      "cell_type": "markdown",
      "metadata": {
        "id": "i5PGVmwRbn3t",
        "colab_type": "text"
      },
      "source": [
        "##2. Problem Statement"
      ]
    },
    {
      "cell_type": "markdown",
      "metadata": {
        "id": "L6aLa-Eub_Kt",
        "colab_type": "text"
      },
      "source": [
        "###Task 1:"
      ]
    },
    {
      "cell_type": "markdown",
      "metadata": {
        "id": "NqnfftshcCvR",
        "colab_type": "text"
      },
      "source": [
        "1.1\n",
        "\n",
        "Write a Python Program to implement your own myreduce() function which works exactly like\n",
        "Python's built-in function reduce()"
      ]
    },
    {
      "cell_type": "code",
      "metadata": {
        "id": "0C9NrGX9cCA3",
        "colab_type": "code",
        "colab": {
          "base_uri": "https://localhost:8080/",
          "height": 51
        },
        "outputId": "72be54f5-430a-48e6-eede-307b24eba60e"
      },
      "source": [
        "l=[14,12,25,32]\n",
        "def do_sum(x1, x2): \n",
        "    return x1 + x2\n",
        "\n",
        "def Product(x1,x2):\n",
        "  return x1*x2\n",
        "\n",
        "def my_reduce(func,l):\n",
        "     first = l[0]\n",
        "     for i in l[1:]:\n",
        "         first = func(first, i)\n",
        "     return first\n",
        "\n",
        "print(\"Sum of all element in list a :\", my_reduce(do_sum, l))\n",
        "print(\"Product of all elements in list a :\", my_reduce(Product, l))"
      ],
      "execution_count": 2,
      "outputs": [
        {
          "output_type": "stream",
          "text": [
            "Sum of all element in list a : 83\n",
            "Product of all elements in list a : 134400\n"
          ],
          "name": "stdout"
        }
      ]
    },
    {
      "cell_type": "markdown",
      "metadata": {
        "id": "0Z9kHlVzcKa-",
        "colab_type": "text"
      },
      "source": [
        "1.2\n",
        "\n",
        "Write a Python program to implement your own myfilter() function which works exactly like\n",
        "Python's built-in function filter()"
      ]
    },
    {
      "cell_type": "code",
      "metadata": {
        "id": "FWj_tfNVfSE-",
        "colab_type": "code",
        "colab": {
          "base_uri": "https://localhost:8080/",
          "height": 54
        },
        "outputId": "7a05ec3c-5c77-4357-84f8-f010bd13e9c6"
      },
      "source": [
        "l=[14,12,25,32]\n",
        "def even(num):\n",
        "  if num%2==0:\n",
        "    return num\n",
        "\n",
        "def myfilter(func,l):\n",
        "     for i in l:\n",
        "          if func(i):\n",
        "            yield i\n",
        "list(myfilter(even,l))\n",
        "\n",
        "def multiple_five(i):\n",
        "    if i%5==0:\n",
        "        return i\n",
        "    else:\n",
        "        return False\n",
        "\n",
        "\n",
        "print(list(myfilter(multiple_five,l)))\n",
        "print(list(myfilter(even,l)))"
      ],
      "execution_count": null,
      "outputs": [
        {
          "output_type": "stream",
          "text": [
            "[25]\n",
            "[14, 12, 32]\n"
          ],
          "name": "stdout"
        }
      ]
    },
    {
      "cell_type": "markdown",
      "metadata": {
        "id": "qQHVWIEPcLcA",
        "colab_type": "text"
      },
      "source": [
        "2.\n",
        "\n",
        "Implement List comprehensions to produce the following lists.\n",
        "Write List comprehensions to produce the following Lists\n",
        "\n",
        "['A', 'C', 'A', 'D', 'G', 'I', ’L’, ‘ D’]\n",
        "\n",
        "['x', 'xx', 'xxx', 'xxxx', 'y', 'yy', 'yyy', 'yyyy', 'z', 'zz', 'zzz', 'zzzz']\n",
        "\n",
        "['x', 'y', 'z', 'xx', 'yy', 'zz', 'xx', 'yy', 'zz', 'xxxx', 'yyyy', 'zzzz']\n",
        "\n",
        "[[2], [3], [4], [3], [4], [5], [4], [5], [6]]\n",
        "\n",
        "[[2, 3, 4, 5], [3, 4, 5, 6], [4, 5, 6, 7], [5, 6, 7, 8]]\n",
        "\n",
        "[(1, 1), (2, 1), (3, 1), (1, 2), (2, 2), (3, 2), (1, 3), (2, 3), (3, 3)]"
      ]
    },
    {
      "cell_type": "code",
      "metadata": {
        "id": "mYyC6MnthBjm",
        "colab_type": "code",
        "colab": {
          "base_uri": "https://localhost:8080/",
          "height": 126
        },
        "outputId": "70d9d405-825c-4882-bceb-7dbeb62df921"
      },
      "source": [
        "# 1. Solution \n",
        "l = [i for i in 'ACADGILD']\n",
        "print(l)\n",
        "# 2. solution \n",
        "l=['x','y','z']\n",
        "print([i*j for i in l for j in range(1,5)])\n",
        "# 3. solution\n",
        "print([i*j for i in range(1,5) for j in l])\n",
        "# 4. solution\n",
        "print([[i+j] for i in range(1,4) for j in range(1,4)])\n",
        "#5. solution\n",
        "print([[i+j for i in range(1,5)] for j in range(1,5)])\n",
        "#6. solution\n",
        "print([(i,j) for i in range(1,4) for j in range(1,4)])"
      ],
      "execution_count": null,
      "outputs": [
        {
          "output_type": "stream",
          "text": [
            "['A', 'C', 'A', 'D', 'G', 'I', 'L', 'D']\n",
            "['x', 'xx', 'xxx', 'xxxx', 'y', 'yy', 'yyy', 'yyyy', 'z', 'zz', 'zzz', 'zzzz']\n",
            "['x', 'y', 'z', 'xx', 'yy', 'zz', 'xxx', 'yyy', 'zzz', 'xxxx', 'yyyy', 'zzzz']\n",
            "[[2], [3], [4], [3], [4], [5], [4], [5], [6]]\n",
            "[[2, 3, 4, 5], [3, 4, 5, 6], [4, 5, 6, 7], [5, 6, 7, 8]]\n",
            "[(1, 1), (1, 2), (1, 3), (2, 1), (2, 2), (2, 3), (3, 1), (3, 2), (3, 3)]\n"
          ],
          "name": "stdout"
        }
      ]
    },
    {
      "cell_type": "markdown",
      "metadata": {
        "id": "AAMyRGlWcRCQ",
        "colab_type": "text"
      },
      "source": [
        "3.\n",
        "\n",
        "Implement a function longestWord() that takes a list of words and returns the longest one."
      ]
    },
    {
      "cell_type": "code",
      "metadata": {
        "id": "THvBhdQahOSJ",
        "colab_type": "code",
        "colab": {
          "base_uri": "https://localhost:8080/",
          "height": 35
        },
        "outputId": "eb3ef049-94d4-4970-c072-6693ec0fde01"
      },
      "source": [
        "listOfWords = ['wordOne','wordTwo','wordThree','wordFour','wordFive']\n",
        "\n",
        "def longestWord(l):\n",
        "  long=''\n",
        "  for i in l:\n",
        "    if len(i)>=len(long):\n",
        "      long=i\n",
        "  return long\n",
        "\n",
        "longestWord(listOfWords)"
      ],
      "execution_count": null,
      "outputs": [
        {
          "output_type": "execute_result",
          "data": {
            "application/vnd.google.colaboratory.intrinsic+json": {
              "type": "string"
            },
            "text/plain": [
              "'wordThree'"
            ]
          },
          "metadata": {
            "tags": []
          },
          "execution_count": 42
        }
      ]
    },
    {
      "cell_type": "markdown",
      "metadata": {
        "id": "5hIK_M07cVQx",
        "colab_type": "text"
      },
      "source": [
        "###Task 2:"
      ]
    },
    {
      "cell_type": "markdown",
      "metadata": {
        "id": "d0IgOWPWcXhE",
        "colab_type": "text"
      },
      "source": [
        "1.1\n",
        "\n",
        "Write a Python Program(with class concepts) to find the area of the triangle using the below\n",
        "formula.\n",
        "    \n",
        "      area = (s*(s-a)*(s-b)*(s-c)) ** 0.5\n",
        "\n",
        "Function to take the length of the sides of triangle from user should be defined in the parent\n",
        "class and function to calculate the area should be defined in subclass."
      ]
    },
    {
      "cell_type": "code",
      "metadata": {
        "id": "_5_XUDM0hYal",
        "colab_type": "code",
        "colab": {
          "base_uri": "https://localhost:8080/",
          "height": 108
        },
        "outputId": "5aca5229-d86c-4503-eba7-2abc4cc3b4c7"
      },
      "source": [
        "class Shape:\n",
        "  def inputoflen(self):\n",
        "    print(\"Enter All three side one by one to find the area of a triangle\")\n",
        "    self.a=int(input(\"Enter First Side Value:\"))\n",
        "    self.b=int(input(\"Enter Second Side Value:\"))\n",
        "    self.c=int(input(\"Enter Third Side Value:\"))\n",
        "    self.s=float((self.a + self.b + self.c)/2)\n",
        "    \n",
        "class Triangle(Shape):\n",
        "  def area(self):\n",
        "    self.area=(self.s*(self.s-self.a)*(self.s-self.b)*(self.s-self.c)) ** 0.5\n",
        "    return self.area\n",
        "obj=Triangle()\n",
        "obj.inputoflen()\n",
        "obj.area()"
      ],
      "execution_count": null,
      "outputs": [
        {
          "output_type": "stream",
          "text": [
            "Enter All three side one by one to find the area of a triangle\n",
            "Enter First Side Value:10\n",
            "Enter Second Side Value:12\n",
            "Enter Third Side Value:15\n"
          ],
          "name": "stdout"
        },
        {
          "output_type": "execute_result",
          "data": {
            "text/plain": [
              "59.81168364124187"
            ]
          },
          "metadata": {
            "tags": []
          },
          "execution_count": 18
        }
      ]
    },
    {
      "cell_type": "markdown",
      "metadata": {
        "id": "PaYG5sqtcbfG",
        "colab_type": "text"
      },
      "source": [
        "1.2\n",
        "\n",
        "Write a function filter_long_words() that takes a list of words and an integer n and returns the list\n",
        "of words that are longer than n.\n"
      ]
    },
    {
      "cell_type": "code",
      "metadata": {
        "id": "-edAErf4hbVG",
        "colab_type": "code",
        "colab": {
          "base_uri": "https://localhost:8080/",
          "height": 72
        },
        "outputId": "b643ec11-feab-45b2-d4b6-664cfbc75ede"
      },
      "source": [
        "def filter_long_words(li,n):\n",
        "  new=[]\n",
        "  for i in input_string:\n",
        "    if len(i)>n:\n",
        "      new.append(i)\n",
        "  return new\n",
        "input_string=input(\"Enter a list elemet separated by space\").split()\n",
        "n=int(input(\"Enter the number\"))\n",
        "new=filter_long_words(input_string,n)\n",
        "print(new)"
      ],
      "execution_count": null,
      "outputs": [
        {
          "output_type": "stream",
          "text": [
            "Enter a list elemet separated by spaceRavi Himanshu Amit Abhishek Rahul\n",
            "Enter the number4\n",
            "['Himanshu', 'Abhishek', 'Rahul']\n"
          ],
          "name": "stdout"
        }
      ]
    },
    {
      "cell_type": "markdown",
      "metadata": {
        "id": "DxloaD5Scieu",
        "colab_type": "text"
      },
      "source": [
        "2.1\n",
        "\n",
        "Write a Python program using function concept that maps list of words into a list of integers\n",
        "representing the lengths of the corresponding words.\n",
        "\n",
        "Hint: If a list [ ab,cde,erty] is passed on to the python function output should come as [2,3,4]\n",
        "\n",
        "Here 2,3 and 4 are the lengths of the words in the list."
      ]
    },
    {
      "cell_type": "code",
      "metadata": {
        "id": "tdWtsHnmdPbo",
        "colab_type": "code",
        "colab": {
          "base_uri": "https://localhost:8080/",
          "height": 35
        },
        "outputId": "22d26b97-63e9-4d6a-b803-0a4093a8eea4"
      },
      "source": [
        "def ouput(s):\n",
        "  return len(s)\n",
        "l=['Abhishek','Amit','Ravi','Himanshu']\n",
        "l1=list(map(ouput,l))\n",
        "l1"
      ],
      "execution_count": null,
      "outputs": [
        {
          "output_type": "execute_result",
          "data": {
            "text/plain": [
              "[8, 4, 4, 8]"
            ]
          },
          "metadata": {
            "tags": []
          },
          "execution_count": 17
        }
      ]
    },
    {
      "cell_type": "markdown",
      "metadata": {
        "id": "VKpWFRa-cnGK",
        "colab_type": "text"
      },
      "source": [
        "2.2\n",
        "\n",
        "Write a Python function which takes a character (i.e. a string of length 1) and returns True if it is\n",
        "a vowel, False otherwise"
      ]
    },
    {
      "cell_type": "code",
      "metadata": {
        "id": "HdAjOEmEc8EF",
        "colab_type": "code",
        "colab": {
          "base_uri": "https://localhost:8080/",
          "height": 54
        },
        "outputId": "debd420f-2af8-4280-d075-98e1daa87fe8"
      },
      "source": [
        "def chara(a):\n",
        "  if 1==len(a):\n",
        "    if a in 'AEIOUaeiou':\n",
        "      return True\n",
        "  return False\n",
        "\n",
        "chara(input())"
      ],
      "execution_count": null,
      "outputs": [
        {
          "output_type": "stream",
          "text": [
            "A\n"
          ],
          "name": "stdout"
        },
        {
          "output_type": "execute_result",
          "data": {
            "text/plain": [
              "True"
            ]
          },
          "metadata": {
            "tags": []
          },
          "execution_count": 16
        }
      ]
    }
  ]
}