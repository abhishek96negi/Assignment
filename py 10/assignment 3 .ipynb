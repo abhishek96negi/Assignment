{
  "nbformat": 4,
  "nbformat_minor": 0,
  "metadata": {
    "kernelspec": {
      "display_name": "Python 3",
      "language": "python",
      "name": "python3"
    },
    "language_info": {
      "codemirror_mode": {
        "name": "ipython",
        "version": 3
      },
      "file_extension": ".py",
      "mimetype": "text/x-python",
      "name": "python",
      "nbconvert_exporter": "python",
      "pygments_lexer": "ipython3",
      "version": "3.7.1"
    },
    "colab": {
      "name": "assignment 3 .ipynb",
      "provenance": [],
      "include_colab_link": true
    }
  },
  "cells": [
    {
      "cell_type": "markdown",
      "metadata": {
        "id": "view-in-github",
        "colab_type": "text"
      },
      "source": [
        "<a href=\"https://colab.research.google.com/github/abhishek96negi/Assignment/blob/master/py%2010/assignment%203%20.ipynb\" target=\"_parent\"><img src=\"https://colab.research.google.com/assets/colab-badge.svg\" alt=\"Open In Colab\"/></a>"
      ]
    },
    {
      "cell_type": "markdown",
      "metadata": {
        "id": "hjZp1el3itqy",
        "colab_type": "text"
      },
      "source": [
        "#Session 3"
      ]
    },
    {
      "cell_type": "markdown",
      "metadata": {
        "id": "ivRT9fFgSuJ0",
        "colab_type": "text"
      },
      "source": [
        "## Assignment 3"
      ]
    },
    {
      "cell_type": "markdown",
      "metadata": {
        "id": "q-ulOYx6iz_b",
        "colab_type": "text"
      },
      "source": [
        "###Task 1:"
      ]
    },
    {
      "cell_type": "markdown",
      "metadata": {
        "id": "fQeQA0gsi1fb",
        "colab_type": "text"
      },
      "source": [
        "1.\n",
        "\n",
        "Write a function to compute 5/0 and use try/except to catch the exceptions."
      ]
    },
    {
      "cell_type": "code",
      "metadata": {
        "id": "INhsiA26SuJ0",
        "colab_type": "code",
        "colab": {
          "base_uri": "https://localhost:8080/",
          "height": 34
        },
        "outputId": "12d65b49-de03-499f-be45-c4a0cbcaf2b6"
      },
      "source": [
        "def division():\n",
        "    return 5/0\n",
        "try:\n",
        "    division()\n",
        "except ZeroDivisionError:\n",
        "    print(\"Why do you want to divide a number by ZERO!!\")\n",
        "except:\n",
        "    print(\"other exception\")"
      ],
      "execution_count": null,
      "outputs": [
        {
          "output_type": "stream",
          "text": [
            "Why do you want to divide a number by ZERO!!\n"
          ],
          "name": "stdout"
        }
      ]
    },
    {
      "cell_type": "markdown",
      "metadata": {
        "id": "PFb1dEQQjC7u",
        "colab_type": "text"
      },
      "source": [
        "2.\n",
        "\n",
        "Implement a Python program to generate all sentences where subject is in [\"Americans\",\n",
        "\"Indians\"] and verb is in [\"Play\", \"watch\"] and the object is in [\"Baseball\",\"cricket\"].\n",
        "\n",
        "Hint: Subject,Verb and Object should be declared in the program as shown below.\n",
        "\n",
        "subjects=[\"Americans \",\"Indians\"]\n",
        "\n",
        "verbs=[\"play\",\"watch\"]\n",
        "\n",
        "objects=[\"Baseball\",\"Cricket\"]\n",
        "\n",
        "Output should come as below:\n",
        "\n",
        "Americans play Baseball.\n",
        "\n",
        "Americans play Cricket.\n",
        "\n",
        "Americans watch Baseball.\n",
        "\n",
        "Americans watch Cricket.\n",
        "\n",
        "Indians play Baseball.\n",
        "\n",
        "Indians play Cricket.\n",
        "\n",
        "Indians watch Baseball.\n",
        "\n",
        "Indians watch Cricket."
      ]
    },
    {
      "cell_type": "code",
      "metadata": {
        "id": "49OtaeivSuJ4",
        "colab_type": "code",
        "colab": {
          "base_uri": "https://localhost:8080/",
          "height": 153
        },
        "outputId": "bf4c79d3-695d-4864-f940-29b97596ee85"
      },
      "source": [
        "subject = [\"Americans\", \"Indians\"]\n",
        "verb = [\"Play\", \"watch\"]\n",
        "obj = [\"Baseball\",\"cricket\"]\n",
        "for sub in subject:\n",
        "  for ver in verb:1\n",
        "    for o in obj:\n",
        "      print(sub,ver,o,sep=' ')"
      ],
      "execution_count": null,
      "outputs": [
        {
          "output_type": "stream",
          "text": [
            "Americans Play Baseball\n",
            "Americans Play cricket\n",
            "Americans watch Baseball\n",
            "Americans watch cricket\n",
            "Indians Play Baseball\n",
            "Indians Play cricket\n",
            "Indians watch Baseball\n",
            "Indians watch cricket\n"
          ],
          "name": "stdout"
        }
      ]
    },
    {
      "cell_type": "markdown",
      "metadata": {
        "id": "uFiXFdaIjh3G",
        "colab_type": "text"
      },
      "source": [
        "###Task 2:"
      ]
    },
    {
      "cell_type": "markdown",
      "metadata": {
        "id": "9qk6KgU4jmYA",
        "colab_type": "text"
      },
      "source": [
        "1.\n",
        "\n",
        "Write a function so that the columns of the output matrix are powers of the input vector.\n",
        "\n",
        "The order of the powers is determined by the increasing boolean argument. Specifically, when\n",
        "increasing is False, the i-th output column is the input vector raised element-wise to the power\n",
        "of N - i - 1.\n",
        "\n",
        "HINT: Such a matrix with a geometric progression in each row is named for AlexandreTheophile Vandermonde."
      ]
    },
    {
      "cell_type": "code",
      "metadata": {
        "id": "ar4ccwqlSuJ-",
        "colab_type": "code",
        "colab": {
          "base_uri": "https://localhost:8080/",
          "height": 102
        },
        "outputId": "23920167-af8b-4b83-eb26-5482688e73fa"
      },
      "source": [
        "import numpy as np\n",
        "x = np.array([1,2,3,4,5])\n",
        "N = 4\n",
        "\n",
        "np.vander(x,N)"
      ],
      "execution_count": 1,
      "outputs": [
        {
          "output_type": "execute_result",
          "data": {
            "text/plain": [
              "array([[  1,   1,   1,   1],\n",
              "       [  8,   4,   2,   1],\n",
              "       [ 27,   9,   3,   1],\n",
              "       [ 64,  16,   4,   1],\n",
              "       [125,  25,   5,   1]])"
            ]
          },
          "metadata": {
            "tags": []
          },
          "execution_count": 1
        }
      ]
    }
  ]
}