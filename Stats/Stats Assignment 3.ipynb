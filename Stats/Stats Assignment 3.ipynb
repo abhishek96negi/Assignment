{
  "nbformat": 4,
  "nbformat_minor": 0,
  "metadata": {
    "colab": {
      "name": "stats3.ipynb",
      "provenance": [],
      "collapsed_sections": [],
      "authorship_tag": "ABX9TyMgQ5EfwrtB/EOVLJ/qYR8i",
      "include_colab_link": true
    },
    "kernelspec": {
      "name": "python3",
      "display_name": "Python 3"
    }
  },
  "cells": [
    {
      "cell_type": "markdown",
      "metadata": {
        "id": "view-in-github",
        "colab_type": "text"
      },
      "source": [
        "<a href=\"https://colab.research.google.com/github/abhishek96negi/Assignment/blob/master/Stats/Stats%20Assignment%203.ipynb\" target=\"_parent\"><img src=\"https://colab.research.google.com/assets/colab-badge.svg\" alt=\"Open In Colab\"/></a>"
      ]
    },
    {
      "cell_type": "markdown",
      "metadata": {
        "id": "h5vC55YF30TK",
        "colab_type": "text"
      },
      "source": [
        "###Problem Statement 1:"
      ]
    },
    {
      "cell_type": "markdown",
      "metadata": {
        "id": "-13xIdTx8Oco",
        "colab_type": "text"
      },
      "source": [
        "Blood glucose levels for obese patients have a mean of 100 with a standard deviation of 15. A researcher thinks that a diet high in raw cornstarch will have a positive effect on blood glucose levels. A sample of 36 patients who have tried the raw cornstarch diet have a mean glucose level of 108. Test the hypothesis that the raw cornstarch had an effect or not."
      ]
    },
    {
      "cell_type": "markdown",
      "metadata": {
        "id": "Ow3NZNAR3gJy",
        "colab_type": "text"
      },
      "source": [
        "### Answer"
      ]
    },
    {
      "cell_type": "markdown",
      "metadata": {
        "id": "xNo73Pi1nZ-8",
        "colab_type": "text"
      },
      "source": [
        "Let us choose Null hypothesis fro this problem.\n",
        "\n",
        "State the hypothesis. The population mean is 100\n",
        "\n",
        "As the significance level is not mentioned, let us asssume it to be 5% = 0.05\n",
        "\n",
        "We must calculate the random chance probability, using the foemula we get = 3.2\n",
        "\n",
        "The P-value associated with the Z-value of 3.2 is 0.9993.\n",
        "\n",
        "This means that the probability of having a value less than 108 is 0.9993, while the probability of having a value equal to 108 is (1-0.9993), which is equal to 0.0007.\n",
        "\n",
        "As 0.0007 is less than the significance level of 0.05, So the Null hypothesis can be rejected"
      ]
    },
    {
      "cell_type": "markdown",
      "metadata": {
        "id": "wnSCvOfu3xh3",
        "colab_type": "text"
      },
      "source": [
        "###Problem Statement 2:"
      ]
    },
    {
      "cell_type": "markdown",
      "metadata": {
        "id": "jKbo5BnJ8VVP",
        "colab_type": "text"
      },
      "source": [
        "In one state, 52% of the voters are Republicans, and 48% are Democrats. In a second state, 47% of the voters are Republicans, and 53% are Democrats. Suppose a simple random sample of 100 voters are surveyed from each state.\n",
        "\n",
        "What is the probability that the survey will show a greater percentage of Republican voters in the second state than in the first state?"
      ]
    },
    {
      "cell_type": "markdown",
      "metadata": {
        "id": "SgMOInmt3kj2",
        "colab_type": "text"
      },
      "source": [
        "### Answer"
      ]
    },
    {
      "cell_type": "markdown",
      "metadata": {
        "id": "mE5IM0bZ07tV",
        "colab_type": "text"
      },
      "source": [
        "Mean of the difference in sample proportion of  Republicans of state1 and state2 = 52% - 47% = 5% = 0.05\n",
        "\n",
        "Standard deviation of the difference between state1 and state2 = sqrt((0.52*0.48)/100 + (0.47*0.53)/100) = 0.0706\n",
        "\n",
        "To find that percentage of republicans in state2 to be more than that of state1  is  equivalent of finding the probability that state1 - state2 is less than 0.\n",
        "\n",
        "Referring http://www.z-table.com/ ,\n",
        "\n",
        " Zscore = (0 - 0.05)/0.0706 = -0.7082 and the corresponding percentage probability is 0.24\n",
        "\n"
      ]
    },
    {
      "cell_type": "markdown",
      "metadata": {
        "id": "wTnuMlEZ3syY",
        "colab_type": "text"
      },
      "source": [
        "###Problem Statement 3:"
      ]
    },
    {
      "cell_type": "markdown",
      "metadata": {
        "id": "yCENIifH8aaK",
        "colab_type": "text"
      },
      "source": [
        "You take the SAT and score 1100. The mean score for the SAT is 1026 and the standard deviation is 209. How well did you score on the test compared to the average test taker?"
      ]
    },
    {
      "cell_type": "markdown",
      "metadata": {
        "id": "V-IQRzMF3nWq",
        "colab_type": "text"
      },
      "source": [
        "### Answer"
      ]
    },
    {
      "cell_type": "markdown",
      "metadata": {
        "id": "C953dB-T1D9i",
        "colab_type": "text"
      },
      "source": [
        "Individual score = 1100\n",
        "\n",
        " mean = 1026\n",
        "\n",
        " std deviation = 209\n",
        "\n",
        "So, in terms of standard normal distribution, the Z score is (1100-1026)/209 = 0.3540 which is equivalent to 63.68%.\n",
        "Hence, the individual scored 63.68% more than rest of the test taker and 36.32% less than rest of the test taker.\n"
      ]
    }
  ]
}