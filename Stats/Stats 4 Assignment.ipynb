{
  "nbformat": 4,
  "nbformat_minor": 0,
  "metadata": {
    "colab": {
      "name": "Stats 4 Assignment.ipynb",
      "provenance": [],
      "collapsed_sections": [],
      "authorship_tag": "ABX9TyMAKGhrLG4xCObQPqTxr9Lo",
      "include_colab_link": true
    },
    "kernelspec": {
      "name": "python3",
      "display_name": "Python 3"
    }
  },
  "cells": [
    {
      "cell_type": "markdown",
      "metadata": {
        "id": "view-in-github",
        "colab_type": "text"
      },
      "source": [
        "<a href=\"https://colab.research.google.com/github/abhishek96negi/Assignment/blob/master/Stats/Stats%204%20Assignment.ipynb\" target=\"_parent\"><img src=\"https://colab.research.google.com/assets/colab-badge.svg\" alt=\"Open In Colab\"/></a>"
      ]
    },
    {
      "cell_type": "markdown",
      "metadata": {
        "id": "19SnLK8t9Q_u"
      },
      "source": [
        "**Problem Statement 1:**\n",
        "\n",
        "Is gender independent of education level? A random sample of 395 people were\n",
        "surveyed and each person was asked to report the highest education level they\n",
        "obtained. The data that resulted from the survey is summarized in the following table:\n",
        "\n",
        "    \n",
        "           HighSchool  Bachelors   Masters    Ph.d.     Total\n",
        "    Female     60         54         46         41       201\n",
        "    Male       40         44         53         57       194\n",
        "    Total     100         98         99         98       395\n",
        "\n",
        "\n",
        "Question: Are gender and education level dependent at 5% level of significance? \n",
        "\n",
        "In other words, given the data collected above, is there a relationship between the gender of an individual and the level of education that they have obtained?"
      ]
    },
    {
      "cell_type": "markdown",
      "metadata": {
        "id": "HdFYkWXkHT6-"
      },
      "source": [
        "### Answer"
      ]
    },
    {
      "cell_type": "markdown",
      "metadata": {
        "id": "blj_Jcqv1Si2"
      },
      "source": [
        "Here, I use Chi-square test to test the independence of the categorical features.\n",
        "\n",
        "Ho(Null Hypothesis) : Gender and Education are Independent.\n",
        "\n",
        "Ha(Alternative Hypothesis) : Gender and Education are dependent.\n",
        "\n",
        "χ2=∑(O−E)^2/E   where χ2 is Chi-square, O is Observed Frequency and E is Expected Frequency\n",
        "\n",
        "E = (Total Row * Total Column)/Size of Sample where Size of Sample is given as 395\n",
        "\n",
        "Hence, \t \n",
        "\n",
        "1>Observation value is 60 and it's related Expected value is (201*100)/395 = 50.886\n",
        "\n",
        "2>Observation value is 40 and it's related Expected value is (194*100)/395 = 49.113\n",
        "\n",
        "3> Observation value is 54 and it's related Expected value is (201*98)/395 =  49.868\n",
        "\n",
        "4> Observation value is 44 and it's related Expected value is (194*98)/395 =  48.131\n",
        "\n",
        "5> Observation value is 46 and it's related Expected value is (201*99)/395 =  50.377\n",
        "\n",
        "6> Observation value is 53 and it's related Expected value is (194*99)/395 =  48.622\n",
        "\n",
        "7> Observation value is 41 and it's related Expected value is (201*98)/395 =  49.868\n",
        "\n",
        "8> Observation value is 57 and it's related Expected value is (194*98)/395 =  48.131\n",
        "\n",
        "So, \n",
        "\n",
        "χ2= (60-50.886)^2/50.886 + (40-49.113)^2/49.113 + (54-49.868)^2/49.868 + (44-48.131)^2/48.131 + (46-50.377)^2/50.377 + (53-48.622)^2/48.622 + (41-49.868)^2/49.868 + (57-48.131)^2/48.131 = 1.632 + 1.690 + 0.342 + 0.354 + 0.380 + 0.394 + 1.576 + 1.634 = 8.002\n",
        "\n",
        "Degree of freedom = (Number of Columns -1)*(Number of Rows -1) = (4-1)*(2-1) = 3*1 = 3\n",
        "\n",
        "Now, referring Chi Squared table with input params (Degree of freedom = 3 and level of significance = 0.05), the critical value for χ2 is found to be 7.814.\n",
        "\n",
        "It's found that the calculated χ2 value(8.002) is greater than Critical χ2 value(7.814).\n",
        "\n",
        "Hence, I can infer that Alternative Hypothesis is true here which means Gender and Education are dependent each other.\n"
      ]
    },
    {
      "cell_type": "markdown",
      "metadata": {
        "id": "50VV70bz96rC"
      },
      "source": [
        "**Problem Statement 2:**\n",
        "\n",
        "Using the following data, perform a oneway analysis of variance using α=.05. Write up the results in APA format.\n",
        "\n",
        "      [Group1: 51, 45, 33, 45, 67]\n",
        "      [Group2: 23, 43, 23, 43, 45]\n",
        "      [Group3: 56, 76, 74, 87, 56]"
      ]
    },
    {
      "cell_type": "markdown",
      "metadata": {
        "id": "1ftcZLb1K7vb"
      },
      "source": [
        "### Answer"
      ]
    },
    {
      "cell_type": "markdown",
      "metadata": {
        "id": "EdRkBx3SkDvK"
      },
      "source": [
        "Calculating the variances of Group1\n",
        "\n",
        "\n",
        "    Value  Mean   Deviations    Square of deviations\n",
        "\n",
        "      51   48.2        2.8          7.84\n",
        "\n",
        "      45   48.2       -3.2          10.24\n",
        "\n",
        "      33   48.2      -15.2          231.04\n",
        "\n",
        "      45   48.2       -3.2          10.24\n",
        "\n",
        "      67   48.2       18.8          353.44\n",
        "Calculating the variances of Group2\n",
        "\n",
        "    value  mean   deviations   square of deviations\n",
        "\n",
        "    23     35.4      -12.4        153.76\n",
        "\n",
        "    43     35.4        7.6         57.76\n",
        "\n",
        "    23     35.4      -12.4        153.76\n",
        "\n",
        "    43     35.4        7.6         57.76\n",
        "\n",
        "    45     35.4        9.6         92.16\n",
        "\n",
        "\n",
        "Calculating the variances of Group3\n",
        "\n",
        "    value  mean   deviations   square of deviations\n",
        "\n",
        "    56    69.8      -13.8        190.44\n",
        "\n",
        "    76    69.8        6.2         38.44\n",
        "\n",
        "    74    69.8        4.2         17.64\n",
        "\n",
        "    87    69.8       17.2        295.84\n",
        "\n",
        "    56    69.8      -13.8        190.44\n",
        "Sum of squared deviations from mean(SS) for each group:\n",
        "\n",
        "    Group1 = 612.8\n",
        "\n",
        "    Group2 = 515.2\n",
        "\n",
        "    Group3 = 732.8\n",
        "\n",
        "    Var(1) = 612.85−1 = 153.2\n",
        "\n",
        "    Var(2) = 515.25−1 = 128.8\n",
        "\n",
        "    Var(3) = 732.85−1 = 183.2\n",
        "\n",
        "    MS(error) = (153.2 + 128.8 + 183.2)/3 = 155.07\n",
        "\n",
        "Calculating the remaining error terms for the ANOVA table:\n",
        "\n",
        "df(error) = 15−3 = 12\n",
        "\n",
        "SS(error) = (155.07)(15−3) = 1860.8\n",
        "\n",
        "calculating the variance of the sample means:\n",
        "\n",
        "Grand mean = (48.2 + 35.4 + 69.8)/3 = 51.13\n",
        "\n",
        "    group mean     grand mean   deviations    sq deviations\n",
        "\n",
        "    1     48.2      51.13       -2.93          8.58\n",
        "\n",
        "    2     35.4      51.13      -15.73         247.43\n",
        "\n",
        "    3     69.8      51.13       18.67         348.57\n",
        "Sum of squares of squared deviations(SS-means)= 8.58 + 247.43 + 348.57 = 604.58\n",
        "\n",
        "Var(means) = (604.58) / (3−1) = 302.29\n",
        "\n",
        "MS(between) = (302.29)(5) = 1511.45\n",
        "\n",
        "Calculating the remaining between terms of the ANOVA table:\n",
        "\n",
        "df(groups) = 3−1 = 2\n",
        "\n",
        "SS(group) = (1511.45)(3−1) = 3022.9\n",
        "\n",
        "Test statistic and critical value\n",
        "F = 1511.45 / 155.07 = 9.75\n",
        "\n",
        "F(critical)(2,12) = 3.89\n",
        "\n",
        "ANOVA table\n",
        "      source     SS       df     MS           F\n",
        "\n",
        "        group    3022.9  2     1511.45   9.75\n",
        "\n",
        "        error    1860.8  12    155.07   \n",
        "\n",
        "        total    4883.7\n",
        "Effect size\n",
        "\n",
        "η**2 = 3022.94 / 883.7 = 0.62\n",
        "\n",
        "APA writeup\n",
        "\n",
        "F(2, 12) = 9.75, p <0.05, η**2=0.62"
      ]
    },
    {
      "cell_type": "markdown",
      "metadata": {
        "id": "nVMFP5LS_0lG"
      },
      "source": [
        "**Problem Statement 3:**\n",
        "\n",
        "Calculate F Test for given 10, 20, 30, 40, 50 and 5,10,15, 20, 25.\n",
        "\n",
        "For 10, 20, 30, 40, 50:"
      ]
    },
    {
      "cell_type": "markdown",
      "metadata": {
        "id": "uF1UOKmNAqsA"
      },
      "source": [
        "###Answer :\n",
        "\n",
        " F test is known as ratio of variance of set of values.\n",
        "\n",
        "Set 1 : 10, 20, 30, 40, 50\n",
        "\n",
        "Mean of Set 1 = (10+20+30+40+50)/5= 30\n",
        "\n",
        "Variance of Set 1  =((10-30)^2+(20-30)^2+(30-30)^2+(40-30)^2+(50-30)^2)/5-1 = 250.25\n",
        "\n",
        "Set 2 : 5,10,15, 20, 25\n",
        "\n",
        "Mean of Set 2  = (5+10+15+20+25)/5= 15\n",
        "\n",
        "Variance of Set 2  =((5-15)^2+(10-15)^2+(15-15)^2+(20-15)^2+(25-15)^2)/5-1 = 62.75\n",
        "\n",
        "F Test for 10, 20, 30, 40, 50 = Variance of Set 1/ Variance of Set 2 = 250.25/62.75 = 3.988\n"
      ]
    }
  ]
}